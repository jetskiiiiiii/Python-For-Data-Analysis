{
 "cells": [
  {
   "attachments": {},
   "cell_type": "markdown",
   "metadata": {},
   "source": [
    "## TUPLES"
   ]
  },
  {
   "cell_type": "code",
   "execution_count": 5,
   "metadata": {},
   "outputs": [
    {
     "data": {
      "text/plain": [
       "(1, 2, 3)"
      ]
     },
     "execution_count": 5,
     "metadata": {},
     "output_type": "execute_result"
    }
   ],
   "source": [
    "tuple = (1, 2, 3)\n",
    "tuple"
   ]
  },
  {
   "cell_type": "code",
   "execution_count": 6,
   "metadata": {},
   "outputs": [
    {
     "data": {
      "text/plain": [
       "1"
      ]
     },
     "execution_count": 6,
     "metadata": {},
     "output_type": "execute_result"
    }
   ],
   "source": [
    "tuple[0]"
   ]
  },
  {
   "cell_type": "code",
   "execution_count": 7,
   "metadata": {},
   "outputs": [
    {
     "data": {
      "text/plain": [
       "(4, 5)"
      ]
     },
     "execution_count": 7,
     "metadata": {},
     "output_type": "execute_result"
    }
   ],
   "source": [
    "nested_tup = (1, 2, 3), (4, 5)\n",
    "nested_tup[1]"
   ]
  },
  {
   "cell_type": "code",
   "execution_count": 10,
   "metadata": {},
   "outputs": [
    {
     "data": {
      "text/plain": [
       "([False, False, True], 1, False)"
      ]
     },
     "execution_count": 10,
     "metadata": {},
     "output_type": "execute_result"
    }
   ],
   "source": [
    "# tuples are themselves not mutable, but the objects inside can be\n",
    "\n",
    "tup2 = ([False, False], 1, False)\n",
    "tup2[0].append(True)\n",
    "tup2"
   ]
  },
  {
   "cell_type": "code",
   "execution_count": 12,
   "metadata": {},
   "outputs": [
    {
     "data": {
      "text/plain": [
       "(1, 2, 3, 4, 5)"
      ]
     },
     "execution_count": 12,
     "metadata": {},
     "output_type": "execute_result"
    }
   ],
   "source": [
    "# concat two tuples with + operator\n",
    "\n",
    "tup_concat_1 = (1, 2, 3)\n",
    "tup_concat_2 = (4, 5)\n",
    "tup_concat_1 + tup_concat_2"
   ]
  },
  {
   "cell_type": "code",
   "execution_count": 14,
   "metadata": {},
   "outputs": [
    {
     "data": {
      "text/plain": [
       "(1, 2, 1, 2)"
      ]
     },
     "execution_count": 14,
     "metadata": {},
     "output_type": "execute_result"
    }
   ],
   "source": [
    "# concat x copies of a tuple using * operator\n",
    "\n",
    "tup_mul = (1, 2)\n",
    "tup_mul * 2"
   ]
  },
  {
   "cell_type": "code",
   "execution_count": 16,
   "metadata": {},
   "outputs": [
    {
     "data": {
      "text/plain": [
       "1"
      ]
     },
     "execution_count": 16,
     "metadata": {},
     "output_type": "execute_result"
    }
   ],
   "source": [
    "# tuples can be unpacked, just like lists\n",
    "\n",
    "tup = (1, 2, 3)\n",
    "a, b, c = tup\n",
    "a"
   ]
  },
  {
   "cell_type": "code",
   "execution_count": 18,
   "metadata": {},
   "outputs": [
    {
     "data": {
      "text/plain": [
       "4"
      ]
     },
     "execution_count": 18,
     "metadata": {},
     "output_type": "execute_result"
    }
   ],
   "source": [
    "# nested tuples can be unpacked\n",
    "\n",
    "tup = (1, 2, 3, (4, 5))\n",
    "a, b, c, (d, e) = tup\n",
    "d"
   ]
  },
  {
   "cell_type": "code",
   "execution_count": 19,
   "metadata": {},
   "outputs": [
    {
     "name": "stdout",
     "output_type": "stream",
     "text": [
      "1\n",
      "2\n"
     ]
    }
   ],
   "source": [
    "# common swap algorithm\n",
    "\n",
    "a, b =  1, 2\n",
    "tmp = a\n",
    "a = b\n",
    "b = tmp\n",
    "\n",
    "# in python can be executed as such\n",
    "\n",
    "a, b = 1, 2\n",
    "print(a)\n",
    "b, a = a, b\n",
    "print(a)"
   ]
  },
  {
   "cell_type": "code",
   "execution_count": 21,
   "metadata": {},
   "outputs": [
    {
     "name": "stdout",
     "output_type": "stream",
     "text": [
      "a=1, b=2, c=3\n",
      "a=4, b=5, c=6\n",
      "a=7, b=8, c=9\n"
     ]
    }
   ],
   "source": [
    "# iterating over a sequence of tuples with variable unpacking\n",
    "\n",
    "seq = [(1, 2, 3), (4, 5, 6), (7, 8 , 9)]\n",
    "\n",
    "for a, b, c in seq:\n",
    "    print(f'a={a}, b={b}, c={c}')"
   ]
  },
  {
   "cell_type": "code",
   "execution_count": 23,
   "metadata": {},
   "outputs": [
    {
     "data": {
      "text/plain": [
       "[2, 3, 4, 5]"
      ]
     },
     "execution_count": 23,
     "metadata": {},
     "output_type": "execute_result"
    }
   ],
   "source": [
    "# get remaining elements\n",
    "\n",
    "tup = 1, 2, 3, 4, 5\n",
    "a, *_ = tup\n",
    "_"
   ]
  },
  {
   "cell_type": "code",
   "execution_count": 24,
   "metadata": {},
   "outputs": [
    {
     "data": {
      "text/plain": [
       "3"
      ]
     },
     "execution_count": 24,
     "metadata": {},
     "output_type": "execute_result"
    }
   ],
   "source": [
    "# count the occurance of an element in a tuple\n",
    "\n",
    "tup = 1, 2, 2, 3, 2, 1\n",
    "tup.count(2)"
   ]
  },
  {
   "attachments": {},
   "cell_type": "markdown",
   "metadata": {},
   "source": [
    "## LISTS"
   ]
  },
  {
   "cell_type": "code",
   "execution_count": 29,
   "metadata": {},
   "outputs": [
    {
     "data": {
      "text/plain": [
       "[1, 2, 3]"
      ]
     },
     "execution_count": 29,
     "metadata": {},
     "output_type": "execute_result"
    }
   ],
   "source": [
    "# define lists using []\n",
    "\n",
    "a = [1, 2, 3]\n",
    "a"
   ]
  },
  {
   "cell_type": "code",
   "execution_count": 32,
   "metadata": {},
   "outputs": [
    {
     "data": {
      "text/plain": [
       "[1, 2, 3, 4]"
      ]
     },
     "execution_count": 32,
     "metadata": {},
     "output_type": "execute_result"
    }
   ],
   "source": [
    "# add elements to the end of a list with the append func\n",
    "\n",
    "list = [1, 2, 3]\n",
    "list.append(4)\n",
    "list"
   ]
  },
  {
   "cell_type": "code",
   "execution_count": 43,
   "metadata": {},
   "outputs": [
    {
     "name": "stdout",
     "output_type": "stream",
     "text": [
      "[1, 2, 3, 4, 5, 6]\n",
      "[1, 2, 3, 4, 5, 6]\n"
     ]
    }
   ],
   "source": [
    "# add multiple elements to the end of a list using extend method\n",
    "# extend method is faster as concactenating lists requires a new list be made\n",
    "\n",
    "list = [1, 2, 3]\n",
    "list_2 = [4, 5, 6]\n",
    "print(list + list_2)\n",
    "\n",
    "list.extend(list_2)\n",
    "print(list)"
   ]
  },
  {
   "cell_type": "code",
   "execution_count": 35,
   "metadata": {},
   "outputs": [
    {
     "data": {
      "text/plain": [
       "[0, 1, 2, 3]"
      ]
     },
     "execution_count": 35,
     "metadata": {},
     "output_type": "execute_result"
    }
   ],
   "source": [
    "# insert an element into a specific index \n",
    "# !! insert function is computationally expensive\n",
    "\n",
    "list = [1, 2, 3]\n",
    "list.insert(0, 0)\n",
    "list"
   ]
  },
  {
   "cell_type": "code",
   "execution_count": 36,
   "metadata": {},
   "outputs": [
    {
     "data": {
      "text/plain": [
       "3"
      ]
     },
     "execution_count": 36,
     "metadata": {},
     "output_type": "execute_result"
    }
   ],
   "source": [
    "# pop function removes and *returns* an element at a specifiec index\n",
    "\n",
    "list = [1, 2, 3]\n",
    "list.pop(2)"
   ]
  },
  {
   "cell_type": "code",
   "execution_count": 38,
   "metadata": {},
   "outputs": [
    {
     "data": {
      "text/plain": [
       "[2, 3, 1]"
      ]
     },
     "execution_count": 38,
     "metadata": {},
     "output_type": "execute_result"
    }
   ],
   "source": [
    "# remove the first instance of an element with remove function\n",
    "\n",
    "list = [1, 2, 3, 1]\n",
    "list.remove(1)\n",
    "list"
   ]
  },
  {
   "cell_type": "code",
   "execution_count": 39,
   "metadata": {},
   "outputs": [
    {
     "data": {
      "text/plain": [
       "True"
      ]
     },
     "execution_count": 39,
     "metadata": {},
     "output_type": "execute_result"
    }
   ],
   "source": [
    "# check if an element is in a list\n",
    "# !! checking if an element is in a list is computationally slower than checking if an element is in a dictionary/set\n",
    "\n",
    "list = [1, 2, 3]\n",
    "1 in list"
   ]
  },
  {
   "cell_type": "code",
   "execution_count": 46,
   "metadata": {},
   "outputs": [
    {
     "name": "stdout",
     "output_type": "stream",
     "text": [
      "[1, 2, 3]\n",
      "['c', 'aa', 'bbb']\n"
     ]
    }
   ],
   "source": [
    "# sort a list based on a desired value\n",
    "\n",
    "list = [3, 2, 1]\n",
    "list.sort()\n",
    "print(list)\n",
    "\n",
    "list = [\"aa\", \"bbb\", \"c\"]\n",
    "list.sort(key=len)\n",
    "print(list)"
   ]
  },
  {
   "cell_type": "code",
   "execution_count": 49,
   "metadata": {},
   "outputs": [
    {
     "name": "stdout",
     "output_type": "stream",
     "text": [
      "[2, 3]\n",
      "[1, 'aa', 'bb', 4, 5]\n"
     ]
    }
   ],
   "source": [
    "# slicing and assigning with slices\n",
    "\n",
    "list = [1, 2, 3, 4, 5]\n",
    "print(list[1:3])\n",
    "\n",
    "list[1:3] = [\"aa\", \"bb\"]\n",
    "print(list)"
   ]
  },
  {
   "cell_type": "code",
   "execution_count": 50,
   "metadata": {},
   "outputs": [
    {
     "data": {
      "text/plain": [
       "[3, 2, 1]"
      ]
     },
     "execution_count": 50,
     "metadata": {},
     "output_type": "execute_result"
    }
   ],
   "source": [
    "# steps in slices\n",
    "\n",
    "list = [1, 2, 3]\n",
    "list[::-1]"
   ]
  },
  {
   "cell_type": "code",
   "execution_count": 56,
   "metadata": {},
   "outputs": [
    {
     "name": "stdout",
     "output_type": "stream",
     "text": [
      "dict_keys(['a', 'b', 'c'])\n",
      "dict_values([1, 2, 3])\n",
      "dict_items([('a', 1), ('b', 2), ('c', 3)])\n"
     ]
    }
   ],
   "source": [
    "# get keys of dictionary\n",
    "\n",
    "dict = {\"a\": 1, \"b\": 2, \"c\": 3}\n",
    "print(dict.keys())\n",
    "\n",
    "# get values of dictionary\n",
    "\n",
    "print(dict.values())\n",
    "\n",
    "# get keys and values of dictionary\n",
    "\n",
    "print(dict.items())"
   ]
  },
  {
   "cell_type": "code",
   "execution_count": 59,
   "metadata": {},
   "outputs": [
    {
     "data": {
      "text/plain": [
       "{'a': 22, 'b': 2, 'c': 3, 'd': 4}"
      ]
     },
     "execution_count": 59,
     "metadata": {},
     "output_type": "execute_result"
    }
   ],
   "source": [
    "# merge two dicts together using update method (replaces existing values)\n",
    "\n",
    "dict = {\"a\": 1, \"b\": 2, \"c\": 3}\n",
    "dict_2 = {\"a\": 22, \"d\": 4}\n",
    "\n",
    "dict.update(dict_2)\n",
    "dict"
   ]
  },
  {
   "cell_type": "code",
   "execution_count": 63,
   "metadata": {},
   "outputs": [
    {
     "name": "stdout",
     "output_type": "stream",
     "text": [
      "{'a': 1, 'b': 2, 'c': 3, 'd': 4}\n"
     ]
    }
   ],
   "source": [
    "# creating dicts from two sequences\n",
    "\n",
    "seq_1 = [\"a\", \"b\", \"c\", \"d\"]\n",
    "seq_2 = [1, 2, 3, 4]\n",
    "\n",
    "new_dict = {}\n",
    "for key, value in zip(seq_1, seq_2):\n",
    "    new_dict[key] = value\n",
    "print(new_dict)"
   ]
  },
  {
   "cell_type": "code",
   "execution_count": 67,
   "metadata": {},
   "outputs": [
    {
     "name": "stdout",
     "output_type": "stream",
     "text": [
      "1\n",
      "2\n"
     ]
    }
   ],
   "source": [
    "# getting values from dictionaries\n",
    "\n",
    "dict = {\"a\": 1, \"b\": 2, \"c\": 3}\n",
    "value = 0\n",
    "\n",
    "if \"a\" in dict:\n",
    "   value = dict[\"a\"]\n",
    "\n",
    "print(value)\n",
    "\n",
    "# better way\n",
    "\n",
    "value = dict.get(\"b\")\n",
    "print(value)"
   ]
  },
  {
   "cell_type": "code",
   "execution_count": 72,
   "metadata": {},
   "outputs": [
    {
     "name": "stdout",
     "output_type": "stream",
     "text": [
      "{'a': ['apple', 'airflow', 'ants'], 'g': ['grape', 'game', 'grass']}\n",
      "{'a': ['apple', 'airflow', 'ants'], 'g': ['grape', 'game', 'grass']}\n"
     ]
    }
   ],
   "source": [
    "# sorting a list into a dictionary\n",
    "\n",
    "list_of_words = [\"apple\", \"grape\", \"airflow\", \"game\", \"grass\", \"ants\"]\n",
    "dict_of_sorted_words = {}\n",
    "\n",
    "for word in list_of_words:\n",
    "    letter = word[0]\n",
    "    if word[0] in dict_of_sorted_words:\n",
    "        dict_of_sorted_words[letter].append(word)\n",
    "    else:\n",
    "        dict_of_sorted_words[letter] = [word]\n",
    "        \n",
    "print(dict_of_sorted_words)\n",
    "\n",
    "# better way\n",
    "\n",
    "better_dict = {}\n",
    "\n",
    "for word in list_of_words:\n",
    "    letter = word[0]\n",
    "    better_dict.setdefault(letter, []).append(word)\n",
    "    \n",
    "print(better_dict)\n",
    "\n",
    "# even better\n",
    "\n",
    "# from collections import defaultdict\n",
    "\n",
    "# even_better_dict = defaultdict(list)\n",
    "\n",
    "# for word in list_of_words:\n",
    "#     even_better_dict[word[0]].append(word)\n",
    "    \n",
    "# print(even_better_dict)"
   ]
  },
  {
   "cell_type": "code",
   "execution_count": 74,
   "metadata": {},
   "outputs": [
    {
     "data": {
      "text/plain": [
       "-6326474557738423987"
      ]
     },
     "execution_count": 74,
     "metadata": {},
     "output_type": "execute_result"
    }
   ],
   "source": [
    "# keys of dictionaries must be hashable (immutable)\n",
    "hash(\"str\")"
   ]
  },
  {
   "cell_type": "code",
   "execution_count": 80,
   "metadata": {},
   "outputs": [
    {
     "name": "stdout",
     "output_type": "stream",
     "text": [
      "{1, 2, 3, 5}\n",
      "{1, 2, 3, 5}\n"
     ]
    }
   ],
   "source": [
    "# mathematical set operations are used to manipulate sets\n",
    "\n",
    "a = set([1, 2, 3])\n",
    "b = {2, 3, 5}\n",
    "\n",
    "c = a.union(b)\n",
    "d = a | b\n",
    "\n",
    "print(c)\n",
    "print(d)"
   ]
  },
  {
   "cell_type": "code",
   "execution_count": 82,
   "metadata": {},
   "outputs": [
    {
     "name": "stdout",
     "output_type": "stream",
     "text": [
      "{1, 2, 3} {2, 3}\n"
     ]
    }
   ],
   "source": [
    "# binary set operators with automatic update\n",
    "\n",
    "a = {1, 2, 3}\n",
    "b = {2, 3, 5}\n",
    "\n",
    "c, d = a.copy(), a.copy()\n",
    "\n",
    "# combining set operators with update (which is just reassigning variable)\n",
    "\n",
    "c != b\n",
    "d &= b\n",
    "\n",
    "print(c, d)"
   ]
  },
  {
   "cell_type": "code",
   "execution_count": 85,
   "metadata": {},
   "outputs": [
    {
     "name": "stdout",
     "output_type": "stream",
     "text": [
      "0 index: 1\n",
      "1 index: 2\n",
      "2 index: 3\n",
      "3 index: 4\n"
     ]
    }
   ],
   "source": [
    "# keeping track of index when iterating\n",
    "\n",
    "nums = {1, 2, 3, 4}\n",
    "for i, val in enumerate(nums):\n",
    "    print(f'{i} index: {val}')"
   ]
  },
  {
   "cell_type": "code",
   "execution_count": 86,
   "metadata": {},
   "outputs": [
    {
     "name": "stdout",
     "output_type": "stream",
     "text": [
      "[1, 2, 3, 4, 5]\n"
     ]
    }
   ],
   "source": [
    "# sorted function\n",
    "\n",
    "nums = {3, 2, 5, 1, 4}\n",
    "sorted_nums = sorted(nums)\n",
    "print(sorted_nums)"
   ]
  },
  {
   "cell_type": "code",
   "execution_count": 87,
   "metadata": {},
   "outputs": [
    {
     "name": "stdout",
     "output_type": "stream",
     "text": [
      "apple pie\n",
      "grape cake\n"
     ]
    }
   ],
   "source": [
    "# enumerating zips\n",
    "\n",
    "list_1 = [\"apple\", \"grape\"]\n",
    "list_2 = [\"pie\", \"cake\"]\n",
    "\n",
    "for i, (fruit, type) in enumerate(zip(list_1, list_2)):\n",
    "    print(f'{fruit} {type}')"
   ]
  },
  {
   "cell_type": "code",
   "execution_count": 92,
   "metadata": {},
   "outputs": [
    {
     "name": "stdout",
     "output_type": "stream",
     "text": [
      "['GOOSE', 'GRAPES', 'GARDEN']\n",
      "{0: 'apple', 1: 'berry', 2: 'goose', 3: 'grapes', 4: 'garden'}\n"
     ]
    }
   ],
   "source": [
    "# filtering collections with comprehensions\n",
    "\n",
    "collection = {\"apple\", \"berry\", \"goose\", \"grapes\", \"garden\"}\n",
    "\n",
    "list = [x.upper() for x in collection if x[0]==\"g\"]\n",
    "print(list)\n",
    "\n",
    "dictionary = {index: value for index, value in enumerate(collection)}\n",
    "print(dictionary)"
   ]
  },
  {
   "cell_type": "code",
   "execution_count": 95,
   "metadata": {},
   "outputs": [
    {
     "name": "stdout",
     "output_type": "stream",
     "text": [
      "['apple', 'butter', 'mutter', 'cuter']\n"
     ]
    }
   ],
   "source": [
    "# nested comprehensions\n",
    "\n",
    "collection = [[\"apple\", \"pear\", \"dear\", \"bank\"],\n",
    "              [\"butter\", \"mutter\", \"cuter\", \"tank\"]]\n",
    "\n",
    "list = [a for b in collection for a in b if len(a) > 4]\n",
    "print(list)"
   ]
  },
  {
   "cell_type": "code",
   "execution_count": 96,
   "metadata": {},
   "outputs": [
    {
     "data": {
      "text/plain": [
       "[1, 2, 3, 4, 5, 6, 7, 8, 9]"
      ]
     },
     "execution_count": 96,
     "metadata": {},
     "output_type": "execute_result"
    }
   ],
   "source": [
    "# flatten a list of tuples with list comprehension\n",
    "\n",
    "tuples = [(1, 2, 3), (4, 5, 6), (7, 8, 9)]\n",
    "\n",
    "list = [value for tuple in tuples for value in tuple]\n",
    "list"
   ]
  },
  {
   "cell_type": "code",
   "execution_count": 98,
   "metadata": {},
   "outputs": [
    {
     "data": {
      "text/plain": [
       "[[1, 2, 3], [4, 5, 6], [7, 8, 9]]"
      ]
     },
     "execution_count": 98,
     "metadata": {},
     "output_type": "execute_result"
    }
   ],
   "source": [
    "# create list of lists based on a list of tuples with list comprehension\n",
    "\n",
    "tuples = [(1, 2, 3), (4, 5, 6), (7, 8, 9)]\n",
    "\n",
    "list = [[value for value in tuple] for tuple in tuples]\n",
    "list"
   ]
  },
  {
   "cell_type": "code",
   "execution_count": 3,
   "metadata": {},
   "outputs": [
    {
     "data": {
      "text/plain": [
       "['Alabama',\n",
       " 'Georgia',\n",
       " 'Georgia',\n",
       " 'Georgia',\n",
       " 'Florida',\n",
       " 'South   Carolina',\n",
       " 'West Virginia']"
      ]
     },
     "execution_count": 3,
     "metadata": {},
     "output_type": "execute_result"
    }
   ],
   "source": [
    "# re library, cleaning strings, lambda functions\n",
    "\n",
    "import re\n",
    "\n",
    "states = [\"   Alabama \", \"Georgia!\", \"Georgia\", \"georgia\", \"FlOrIda\", \"south   carolina##\", \"West virginia?\"]\n",
    "clean_operations = [str.strip, lambda value: re.sub(\"[!#?']\", \"\", value), str.title]\n",
    "\n",
    "def clean_str(string, operation):\n",
    "    result = []\n",
    "    for str in string: \n",
    "        for ops in operation:\n",
    "            str = ops(str)\n",
    "        result.append(str)\n",
    "    return result\n",
    "\n",
    "clean_str(states, clean_operations)"
   ]
  },
  {
   "cell_type": "code",
   "execution_count": 4,
   "metadata": {},
   "outputs": [
    {
     "data": {
      "text/plain": [
       "[2, 3, 4, 5, 6]"
      ]
     },
     "execution_count": 4,
     "metadata": {},
     "output_type": "execute_result"
    }
   ],
   "source": [
    "# lambda functions\n",
    "\n",
    "def apply_func(list, function):\n",
    "    return [function(x) for x in list]\n",
    "\n",
    "list = [1, 2, 3, 4, 5]\n",
    "\n",
    "mod_list = apply_func(list, lambda x: x+1)\n",
    "mod_list"
   ]
  },
  {
   "cell_type": "code",
   "execution_count": 3,
   "metadata": {},
   "outputs": [
    {
     "data": {
      "text/plain": [
       "['aaaa', 'foo', 'abab', 'bar', 'card']"
      ]
     },
     "execution_count": 3,
     "metadata": {},
     "output_type": "execute_result"
    }
   ],
   "source": [
    "# sorting a list based on unique values (hint: sets only contain unique values)\n",
    "\n",
    "strings = [\"foo\", \"card\", \"bar\", \"aaaa\", \"abab\"]\n",
    "\n",
    "sorted(strings, key=lambda x: len(set(x)))"
   ]
  },
  {
   "cell_type": "code",
   "execution_count": 9,
   "metadata": {},
   "outputs": [
    {
     "name": "stdout",
     "output_type": "stream",
     "text": [
      "<generator object squares at 0x10b21f6f0>\n",
      "This will print the squares\n",
      "0 1 4 9 16 25 36 49 64 81 "
     ]
    }
   ],
   "source": [
    "# generators to construct an iterable\n",
    "\n",
    "def squares(n):\n",
    "    print('This will print the squares')\n",
    "    for i in range(0, n):\n",
    "        yield i*i\n",
    "        \n",
    "gen = squares(10)\n",
    "print(gen)\n",
    "\n",
    "for i in gen:\n",
    "    print(i, end=' ')"
   ]
  },
  {
   "cell_type": "code",
   "execution_count": 11,
   "metadata": {},
   "outputs": [
    {
     "name": "stdout",
     "output_type": "stream",
     "text": [
      "0 1 4 9 16 25 36 49 64 81 "
     ]
    }
   ],
   "source": [
    "# generator expressions\n",
    "\n",
    "gen = (i*i for i in range(10))\n",
    "\n",
    "for x in gen:\n",
    "    print(x, end=' ')"
   ]
  },
  {
   "cell_type": "code",
   "execution_count": 15,
   "metadata": {},
   "outputs": [
    {
     "name": "stdout",
     "output_type": "stream",
     "text": [
      "45\n",
      "45\n"
     ]
    }
   ],
   "source": [
    "# using generator expressions instead of list comprehensions\n",
    "\n",
    "# instead of\n",
    "\n",
    "sum_1 = sum([x for x in range(10)])\n",
    "print(sum_1)\n",
    "\n",
    "# do this\n",
    "\n",
    "sum_2 = sum(x for x in range(10))\n",
    "print(sum_2)\n",
    "\n",
    "# for big lists, generators will be faster"
   ]
  },
  {
   "cell_type": "code",
   "execution_count": 20,
   "metadata": {},
   "outputs": [
    {
     "name": "stdout",
     "output_type": "stream",
     "text": [
      "B ['Brandon']\n",
      "J ['Jacob']\n",
      "M ['Mark']\n",
      "J ['Johnson', 'Jessica']\n",
      "A ['Abby']\n",
      "C ['Claire']\n"
     ]
    }
   ],
   "source": [
    "# using itertools library for generators of common data algorithms\n",
    "\n",
    "import itertools\n",
    "\n",
    "names = [\"Brandon\", \"Jacob\", \"Mark\", \"Johnson\", \"Jessica\", \"Abby\", \"Claire\"]\n",
    "\n",
    "def first_letter(names):\n",
    "    return names[0]\n",
    "\n",
    "for letter, names in itertools.groupby(names, first_letter):\n",
    "    print(letter, list(names))"
   ]
  },
  {
   "cell_type": "code",
   "execution_count": 26,
   "metadata": {},
   "outputs": [
    {
     "name": "stdout",
     "output_type": "stream",
     "text": [
      "Did it work?\n"
     ]
    },
    {
     "data": {
      "text/plain": [
       "'something'"
      ]
     },
     "execution_count": 26,
     "metadata": {},
     "output_type": "execute_result"
    }
   ],
   "source": [
    "# dealing with exceptions\n",
    "\n",
    "def attempt_float(x):\n",
    "    try:\n",
    "        return float(x)\n",
    "    except:\n",
    "        return x\n",
    "    else:\n",
    "        print('This only prints when try block succeeds') # This only prints when try block succeeds\n",
    "    finally:\n",
    "        print('Did it work?') # this code will always execute\n",
    "    \n",
    "attempt_float(\"something\")"
   ]
  },
  {
   "cell_type": "code",
   "execution_count": 27,
   "metadata": {},
   "outputs": [
    {
     "name": "stdout",
     "output_type": "stream",
     "text": [
      "something\n",
      "(1, 2)\n"
     ]
    }
   ],
   "source": [
    "# dealing with only certain exceptions\n",
    "\n",
    "def attempt_float(x):\n",
    "    try:\n",
    "        return float(x)\n",
    "    except (TypeError, ValueError):\n",
    "        return x\n",
    "\n",
    "print(attempt_float('something'))    \n",
    "print(attempt_float((1, 2)))"
   ]
  },
  {
   "cell_type": "code",
   "execution_count": 2,
   "metadata": {},
   "outputs": [
    {
     "name": "stdout",
     "output_type": "stream",
     "text": [
      "\"Birds in the trap\"   \n",
      "\n",
      "\"Sing mcknight\"\n"
     ]
    }
   ],
   "source": [
    "# opening files\n",
    "\n",
    "path = \"/Users/rioprimandaru/Desktop/CODING/PRACTICE-STUDY/python/Python-For-Data-Analysis/test.txt\"\n",
    "f = open(path)\n",
    "\n",
    "# you can treat files like lists\n",
    "\n",
    "for i in f:\n",
    "    print(i)\n",
    "    \n",
    "f.close() # best practice!"
   ]
  },
  {
   "cell_type": "code",
   "execution_count": 6,
   "metadata": {},
   "outputs": [],
   "source": [
    "# returning certain number of characters from a file\n",
    "\n",
    "path = \"/Users/rioprimandaru/Desktop/CODING/PRACTICE-STUDY/python/Python-For-Data-Analysis/test.txt\"\n",
    "\n",
    "f1 = open(path)\n",
    "f1.read(10)\n",
    "f1.tell()\n",
    "f1.close()"
   ]
  },
  {
   "cell_type": "code",
   "execution_count": 13,
   "metadata": {},
   "outputs": [
    {
     "name": "stdout",
     "output_type": "stream",
     "text": [
      "['\"Birds in the trap i i i\"   \\n', '\"Sing mcknight\"']\n",
      "['\"Birds in the trap\"   \\n', '\"Sing mcknight\"']\n"
     ]
    }
   ],
   "source": [
    "# writing to files\n",
    "\n",
    "path = \"/Users/rioprimandaru/Desktop/CODING/PRACTICE-STUDY/python/Python-For-Data-Analysis/test.txt\"\n",
    "\n",
    "with open(path, encoding=\"utf-8\") as file:\n",
    "    print(file.readlines())\n",
    "\n",
    "try: \n",
    "    with open(\"new_file.txt\", mode=\"x\", encoding=\"utf-8\") as new_file: # with keyword opens and closes file\n",
    "        new_file.writelines(x for x in open(path) if len(x) > 1)\n",
    "except:\n",
    "    with open(\"new_file.txt\", encoding=\"utf-8\") as file:\n",
    "        lines = file.readlines()\n",
    "finally: \n",
    "    with open(\"new_file.txt\", encoding=\"utf-8\") as file:\n",
    "        print(file.readlines())"
   ]
  },
  {
   "cell_type": "code",
   "execution_count": 15,
   "metadata": {},
   "outputs": [
    {
     "name": "stdout",
     "output_type": "stream",
     "text": [
      "SueÃ±a el \n"
     ]
    }
   ],
   "source": [
    "# ??\n",
    "\n",
    "sink_path = \"sink.txt\"\n",
    "\n",
    "with open(path) as source:\n",
    "    with open(sink_path, \"x\", encoding=\"iso-8859-1\") as sink:\n",
    "        sink.write(source.read())\n",
    "        \n",
    "with open(sink_path, encoding=\"iso-8859-1\") as f:\n",
    "    print(f.read(10))"
   ]
  }
 ],
 "metadata": {
  "kernelspec": {
   "display_name": "Python 3",
   "language": "python",
   "name": "python3"
  },
  "language_info": {
   "codemirror_mode": {
    "name": "ipython",
    "version": 3
   },
   "file_extension": ".py",
   "mimetype": "text/x-python",
   "name": "python",
   "nbconvert_exporter": "python",
   "pygments_lexer": "ipython3",
   "version": "3.10.6"
  },
  "orig_nbformat": 4,
  "vscode": {
   "interpreter": {
    "hash": "0c59ce12f75ba2b4f5929f3216dd9ed8f458725bb981ff0480ec91cf785d14be"
   }
  }
 },
 "nbformat": 4,
 "nbformat_minor": 2
}
