{
 "cells": [
  {
   "cell_type": "code",
   "execution_count": 2,
   "metadata": {},
   "outputs": [],
   "source": [
    "import numpy as np"
   ]
  },
  {
   "cell_type": "code",
   "execution_count": 4,
   "metadata": {},
   "outputs": [
    {
     "name": "stdout",
     "output_type": "stream",
     "text": [
      "(2, 3) int64\n"
     ]
    }
   ],
   "source": [
    "# creating numpy arrays\n",
    "\n",
    "data = np.array([[1, 2, 3], [4, 5, 6]])\n",
    "print(data.shape, data.dtype)"
   ]
  },
  {
   "cell_type": "code",
   "execution_count": 9,
   "metadata": {},
   "outputs": [
    {
     "name": "stdout",
     "output_type": "stream",
     "text": [
      "float64\n"
     ]
    },
    {
     "data": {
      "text/plain": [
       "array([ 1,  0,  8, -9], dtype=int32)"
      ]
     },
     "execution_count": 9,
     "metadata": {},
     "output_type": "execute_result"
    }
   ],
   "source": [
    "# converting dtype float64 to dtype int will truncates values\n",
    "\n",
    "arr = np.array([1.2, -0.5, 8.3, -9.9])\n",
    "print(arr.dtype)\n",
    "\n",
    "arr.astype(np.int32)"
   ]
  },
  {
   "cell_type": "code",
   "execution_count": 10,
   "metadata": {},
   "outputs": [
    {
     "name": "stdout",
     "output_type": "stream",
     "text": [
      "[1. 1. 1. 1.]\n"
     ]
    },
    {
     "data": {
      "text/plain": [
       "array([3., 3., 3., 3.])"
      ]
     },
     "execution_count": 10,
     "metadata": {},
     "output_type": "execute_result"
    }
   ],
   "source": [
    "# vectorization - apply batch operations without for loops\n",
    "\n",
    "arr = np.ones(4)\n",
    "print(arr)\n",
    "\n",
    "arr * 3"
   ]
  },
  {
   "cell_type": "code",
   "execution_count": 11,
   "metadata": {},
   "outputs": [
    {
     "data": {
      "text/plain": [
       "array([ True,  True,  True,  True])"
      ]
     },
     "execution_count": 11,
     "metadata": {},
     "output_type": "execute_result"
    }
   ],
   "source": [
    "# comparisons between two array result in a array of bools\n",
    "\n",
    "arr1 = np.ones(4)\n",
    "arr2 = np.zeros(4)\n",
    "\n",
    "arr1 > arr2"
   ]
  },
  {
   "cell_type": "code",
   "execution_count": 13,
   "metadata": {},
   "outputs": [
    {
     "name": "stdout",
     "output_type": "stream",
     "text": [
      "[1. 1.]\n",
      "[0. 1.] [1. 1. 0. 1. 1.]\n"
     ]
    }
   ],
   "source": [
    "# array slices are views on the original array\n",
    "\n",
    "arr1 = np.ones(5)\n",
    "\n",
    "arr_slice = arr1[2:4]\n",
    "print(arr_slice)\n",
    "\n",
    "arr_slice[0] = 0 # this will change both arr_slice\n",
    "\n",
    "print(arr_slice, arr1)"
   ]
  },
  {
   "cell_type": "code",
   "execution_count": 1,
   "metadata": {},
   "outputs": [
    {
     "ename": "NameError",
     "evalue": "name 'np' is not defined",
     "output_type": "error",
     "traceback": [
      "\u001b[0;31m---------------------------------------------------------------------------\u001b[0m",
      "\u001b[0;31mNameError\u001b[0m                                 Traceback (most recent call last)",
      "\u001b[1;32m/Users/rioprimandaru/Desktop/CODING/PRACTICE-STUDY/python/Python-For-Data-Analysis/numpy-basics.ipynb Cell 7\u001b[0m in \u001b[0;36m3\n\u001b[1;32m      <a href='vscode-notebook-cell:/Users/rioprimandaru/Desktop/CODING/PRACTICE-STUDY/python/Python-For-Data-Analysis/numpy-basics.ipynb#W6sZmlsZQ%3D%3D?line=0'>1</a>\u001b[0m \u001b[39m# bare slice will assign to all values\u001b[39;00m\n\u001b[0;32m----> <a href='vscode-notebook-cell:/Users/rioprimandaru/Desktop/CODING/PRACTICE-STUDY/python/Python-For-Data-Analysis/numpy-basics.ipynb#W6sZmlsZQ%3D%3D?line=2'>3</a>\u001b[0m arr \u001b[39m=\u001b[39m np\u001b[39m.\u001b[39mones(\u001b[39m4\u001b[39m)\n\u001b[1;32m      <a href='vscode-notebook-cell:/Users/rioprimandaru/Desktop/CODING/PRACTICE-STUDY/python/Python-For-Data-Analysis/numpy-basics.ipynb#W6sZmlsZQ%3D%3D?line=3'>4</a>\u001b[0m \u001b[39mprint\u001b[39m(arr)\n\u001b[1;32m      <a href='vscode-notebook-cell:/Users/rioprimandaru/Desktop/CODING/PRACTICE-STUDY/python/Python-For-Data-Analysis/numpy-basics.ipynb#W6sZmlsZQ%3D%3D?line=4'>5</a>\u001b[0m arr[:] \u001b[39m=\u001b[39m \u001b[39m0\u001b[39m\n",
      "\u001b[0;31mNameError\u001b[0m: name 'np' is not defined"
     ]
    }
   ],
   "source": [
    "# bare slice will assign to all values\n",
    "\n",
    "arr = np.ones(4)\n",
    "print(arr)\n",
    "arr[:] = 0\n",
    "print(arr)"
   ]
  },
  {
   "cell_type": "code",
   "execution_count": 17,
   "metadata": {},
   "outputs": [
    {
     "name": "stdout",
     "output_type": "stream",
     "text": [
      "2\n",
      "2\n"
     ]
    }
   ],
   "source": [
    "# elements can be accessed recursively or with a comma-seperated list\n",
    "\n",
    "arr = np.array([[1, 1, 1], [2, 2, 2], [3, 3, 3]])\n",
    "\n",
    "print(arr[1][2])\n",
    "print(arr[1, 2])"
   ]
  },
  {
   "cell_type": "code",
   "execution_count": 19,
   "metadata": {},
   "outputs": [
    {
     "data": {
      "text/plain": [
       "array([[2, 3]])"
      ]
     },
     "execution_count": 19,
     "metadata": {},
     "output_type": "execute_result"
    }
   ],
   "source": [
    "# passing multiple slices\n",
    "\n",
    "arr = np.array([[1, 2, 3],\n",
    "                [4, 5, 6],\n",
    "                [7, 8, 9]])\n",
    "\n",
    "arr[:1, 1:]"
   ]
  },
  {
   "cell_type": "code",
   "execution_count": 20,
   "metadata": {},
   "outputs": [
    {
     "data": {
      "text/plain": [
       "array([ True,  True, False, False, False,  True])"
      ]
     },
     "execution_count": 20,
     "metadata": {},
     "output_type": "execute_result"
    }
   ],
   "source": [
    "# searching for a specific value in arrays\n",
    "\n",
    "animals = np.array([\"cat\", \"cat\", \"dog\", \"dog\", \"dog\", \"cat\"])\n",
    "\n",
    "animals == \"cat\""
   ]
  },
  {
   "cell_type": "code",
   "execution_count": 24,
   "metadata": {},
   "outputs": [
    {
     "name": "stdout",
     "output_type": "stream",
     "text": [
      "[ True  True False False False  True]\n",
      "[[ 1  2]\n",
      " [ 3  4]\n",
      " [11 12]]\n"
     ]
    }
   ],
   "source": [
    "# passing boolean arrays as indices\n",
    "\n",
    "arr = np.array([[1, 2], [3, 4], [5, 6], [7, 8], [9, 10], [11, 12]])\n",
    "print(animals == \"cat\")\n",
    "print(arr[animals == \"cat\"])"
   ]
  },
  {
   "cell_type": "code",
   "execution_count": 34,
   "metadata": {},
   "outputs": [
    {
     "name": "stdout",
     "output_type": "stream",
     "text": [
      "[ True  True False False False  True]\n"
     ]
    }
   ],
   "source": [
    "# negation with ~\n",
    "\n",
    "dogs = ~(animals == \"cat\")\n",
    "cats = ~(dogs)\n",
    "\n",
    "print(cats)"
   ]
  },
  {
   "cell_type": "code",
   "execution_count": 35,
   "metadata": {},
   "outputs": [
    {
     "data": {
      "text/plain": [
       "array([ True,  True,  True,  True,  True,  True])"
      ]
     },
     "execution_count": 35,
     "metadata": {},
     "output_type": "execute_result"
    }
   ],
   "source": [
    "# indexing with multiple bool conditions\n",
    "\n",
    "all_animals = (animals == \"cat\") | (animals == \"dog\")\n",
    "all_animals"
   ]
  },
  {
   "cell_type": "code",
   "execution_count": 17,
   "metadata": {},
   "outputs": [
    {
     "name": "stdout",
     "output_type": "stream",
     "text": [
      "[[ 4  5  6  7]\n",
      " [12 13 14 15]]\n",
      "[[12 13 14 15]\n",
      " [ 4  5  6  7]]\n"
     ]
    }
   ],
   "source": [
    "# fancy indexing - indexing using arrays\n",
    "\n",
    "arr = np.arange(16).reshape(4, 4)\n",
    "\n",
    "print(arr[[1, 3]]) # outputs multiple values (grouped into one) (think as if two indexing operations)\n",
    "print(arr[[-1, -3]]) # fancy indexing with negative indices"
   ]
  },
  {
   "cell_type": "code",
   "execution_count": 10,
   "metadata": {},
   "outputs": [
    {
     "name": "stdout",
     "output_type": "stream",
     "text": [
      "[[ 1  2  3  4]\n",
      " [ 5  6  7  8]\n",
      " [ 9 10 11 12]\n",
      " [13 14 15 16]]\n",
      "\n",
      "[16  2  9  7]\n"
     ]
    }
   ],
   "source": [
    "# indexing with two array\n",
    "\n",
    "print(f\"{arr}\\n\")\n",
    "\n",
    "print(arr[[3, 0, 2, 1], [3, 1, 0, 2]]) # considers the index a set of coordinates"
   ]
  },
  {
   "cell_type": "code",
   "execution_count": 18,
   "metadata": {},
   "outputs": [
    {
     "name": "stdout",
     "output_type": "stream",
     "text": [
      "[[0 1 2 3]\n",
      " [4 5 6 7]]\n",
      "\n",
      "[[0 4]\n",
      " [1 5]\n",
      " [2 6]\n",
      " [3 7]]\n"
     ]
    }
   ],
   "source": [
    "# transposing arrays\n",
    "\n",
    "arr = np.arange(8).reshape(2, 4)\n",
    "\n",
    "print(f\"{arr}\\n\")\n",
    "print(arr.T)"
   ]
  },
  {
   "cell_type": "code",
   "execution_count": 23,
   "metadata": {},
   "outputs": [
    {
     "name": "stdout",
     "output_type": "stream",
     "text": [
      "[[56 68]\n",
      " [68 84]]\n",
      "[[56 68]\n",
      " [68 84]]\n"
     ]
    }
   ],
   "source": [
    "# matrix product\n",
    "\n",
    "arr = np.arange(8).reshape(4, 2)\n",
    "\n",
    "prod = np.dot(arr.T, arr)\n",
    "prod2 = arr.T @ arr # using infix operator\n",
    "\n",
    "print(prod2)\n",
    "print(prod)"
   ]
  },
  {
   "cell_type": "code",
   "execution_count": 28,
   "metadata": {},
   "outputs": [
    {
     "name": "stdout",
     "output_type": "stream",
     "text": [
      "[[0 1 2 3]\n",
      " [4 5 6 7]] (2, 4)\n"
     ]
    },
    {
     "data": {
      "text/plain": [
       "array([[0, 4],\n",
       "       [1, 5],\n",
       "       [2, 6],\n",
       "       [3, 7]])"
      ]
     },
     "execution_count": 28,
     "metadata": {},
     "output_type": "execute_result"
    }
   ],
   "source": [
    "# swapping axes\n",
    "\n",
    "arr = np.arange(8).reshape(2, 4)\n",
    "print(arr, arr.shape)\n",
    "\n",
    "arr.swapaxes(0, 1)"
   ]
  },
  {
   "cell_type": "code",
   "execution_count": 29,
   "metadata": {},
   "outputs": [
    {
     "name": "stdout",
     "output_type": "stream",
     "text": [
      "9.77 µs ± 23 ns per loop (mean ± std. dev. of 7 runs, 100,000 loops each)\n"
     ]
    }
   ],
   "source": [
    "# time an action\n",
    "\n",
    "%timeit np.random.standard_normal(300)"
   ]
  },
  {
   "cell_type": "code",
   "execution_count": 31,
   "metadata": {},
   "outputs": [
    {
     "data": {
      "text/plain": [
       "array([[-0.32133021, -0.48566148,  1.68005813],\n",
       "       [ 1.97052688,  0.15518366, -1.25776545]])"
      ]
     },
     "execution_count": 31,
     "metadata": {},
     "output_type": "execute_result"
    }
   ],
   "source": [
    "# creating your own random number generator\n",
    "\n",
    "bot = np.random.default_rng(seed=1000)\n",
    "data = bot.standard_normal((2, 3))\n",
    "data"
   ]
  },
  {
   "cell_type": "code",
   "execution_count": 93,
   "metadata": {},
   "outputs": [
    {
     "data": {
      "text/plain": [
       "array([1, 2])"
      ]
     },
     "execution_count": 93,
     "metadata": {},
     "output_type": "execute_result"
    }
   ],
   "source": [
    "# fine tuning random number generation with generator object\n",
    "\n",
    "bot = np.random.default_rng(seed=100) # generator allows you to set the seed for reproducability\n",
    "\n",
    "more = bot.integers((2, 3))\n",
    "more"
   ]
  },
  {
   "cell_type": "code",
   "execution_count": 3,
   "metadata": {},
   "outputs": [
    {
     "data": {
      "text/plain": [
       "array([0.        , 1.        , 1.41421356, 1.73205081, 2.        ])"
      ]
     },
     "execution_count": 3,
     "metadata": {},
     "output_type": "execute_result"
    }
   ],
   "source": [
    "# ufuncs - functions that perform element-wise operations on ndarrays\n",
    "\n",
    "arr = np.arange(5)\n",
    "np.sqrt(arr)"
   ]
  },
  {
   "cell_type": "code",
   "execution_count": 12,
   "metadata": {},
   "outputs": [
    {
     "name": "stdout",
     "output_type": "stream",
     "text": [
      "[0.         1.         1.41421356]\n",
      "[0 2 4]\n",
      "[1.         2.71828183 7.3890561 ]\n"
     ]
    }
   ],
   "source": [
    "arr = np.arange(3)\n",
    "\n",
    "# unary ufuncs \n",
    "print(np.sqrt(arr))\n",
    "\n",
    "# binary ufuncs\n",
    "arr2 = np.arange(3)\n",
    "print(np.add(arr, arr2))\n",
    "\n",
    "# optional out argument\n",
    "out = np.ones_like(arr, dtype=\"float64\")\n",
    "np.exp(arr, out=out)\n",
    "print(out)"
   ]
  },
  {
   "cell_type": "code",
   "execution_count": 14,
   "metadata": {},
   "outputs": [
    {
     "ename": "AttributeError",
     "evalue": "'numpy.ndarray' object has no attribute 'count'",
     "output_type": "error",
     "traceback": [
      "\u001b[0;31m---------------------------------------------------------------------------\u001b[0m",
      "\u001b[0;31mAttributeError\u001b[0m                            Traceback (most recent call last)",
      "\u001b[1;32m/Users/rioprimandaru/Desktop/CODING/PRACTICE-STUDY/python/Python-For-Data-Analysis/numpy-basics.ipynb Cell 24\u001b[0m in \u001b[0;36m2\n\u001b[1;32m      <a href='vscode-notebook-cell:/Users/rioprimandaru/Desktop/CODING/PRACTICE-STUDY/python/Python-For-Data-Analysis/numpy-basics.ipynb#X32sZmlsZQ%3D%3D?line=0'>1</a>\u001b[0m arr \u001b[39m=\u001b[39m np\u001b[39m.\u001b[39marange(\u001b[39m-\u001b[39m\u001b[39m5\u001b[39m, \u001b[39m5\u001b[39m, \u001b[39m0.01\u001b[39m)\n\u001b[0;32m----> <a href='vscode-notebook-cell:/Users/rioprimandaru/Desktop/CODING/PRACTICE-STUDY/python/Python-For-Data-Analysis/numpy-basics.ipynb#X32sZmlsZQ%3D%3D?line=1'>2</a>\u001b[0m arr\u001b[39m.\u001b[39mcount()\n",
      "\u001b[0;31mAttributeError\u001b[0m: 'numpy.ndarray' object has no attribute 'count'"
     ]
    }
   ],
   "source": [
    "arr = np.arange(-5, 5, 0.01)\n"
   ]
  }
 ],
 "metadata": {
  "kernelspec": {
   "display_name": "Python 3",
   "language": "python",
   "name": "python3"
  },
  "language_info": {
   "codemirror_mode": {
    "name": "ipython",
    "version": 3
   },
   "file_extension": ".py",
   "mimetype": "text/x-python",
   "name": "python",
   "nbconvert_exporter": "python",
   "pygments_lexer": "ipython3",
   "version": "3.10.6"
  },
  "orig_nbformat": 4
 },
 "nbformat": 4,
 "nbformat_minor": 2
}
